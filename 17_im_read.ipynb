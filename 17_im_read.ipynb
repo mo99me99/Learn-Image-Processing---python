{
 "cells": [
  {
   "cell_type": "markdown",
   "metadata": {},
   "source": [
    "libraries to open and read images\n",
    "\n",
    "TODO : search for types of Images\n",
    "\n",
    "this lab -> simple jpeg images.\n",
    "\n",
    "pillow -> exelent lib to handle basic images\n",
    "intall by : pip install pillow "
   ]
  },
  {
   "cell_type": "code",
   "execution_count": null,
   "metadata": {},
   "outputs": [],
   "source": [
    "from PIL import Image\n",
    "import numpy as np\n",
    "\n",
    "# the image is not a np array when you open it by pillow\n",
    "img = Image.open('images/test.jpg')\n",
    "print(type(img)) # =>  <class 'PIL.PngImagePlugin.PngImageFile'>\n",
    "# img.show()\n",
    "print(img.format)\n",
    "\n",
    "# convert to np array\n",
    "img1 = np.asarray(img)\n",
    "print(type(img1))\n",
    "print(img1)\n",
    "\n"
   ]
  },
  {
   "cell_type": "markdown",
   "metadata": {},
   "source": [
    "Matplotlib\n",
    "\n",
    "for ploting graphs curves and  visulaize images\n",
    "\n",
    "install : pip install matplotlib"
   ]
  },
  {
   "cell_type": "code",
   "execution_count": null,
   "metadata": {},
   "outputs": [],
   "source": [
    "import matplotlib.image as mpimg\n",
    "import matplotlib.pyplot as plt\n",
    "\n",
    "# image will be read as a NP array. despite of pillow no need to convert it to np array \n",
    "img2 = mpimg.imread('images/test.jpg')\n",
    "print(type(img2))\n",
    "print(img2.shape)\n",
    "plt.imshow(img2)\n",
    "print(img2)"
   ]
  },
  {
   "cell_type": "markdown",
   "metadata": {},
   "source": [
    "Scikit-image\n",
    "\n",
    "for :\n",
    "\n",
    "        ML\n",
    "        Image segmentation\n",
    "        Geometric transformation\n",
    "        anlysis\n",
    "        feature detection\n",
    "\n",
    "install : pip install scikit-image\n",
    "    "
   ]
  },
  {
   "cell_type": "code",
   "execution_count": null,
   "metadata": {},
   "outputs": [],
   "source": [
    "from skimage import io, img_as_float, img_as_ubyte\n",
    "\n",
    "# image will be read as a NP array. despite of pillow no need to convert it to np array\n",
    "img3 = io.imread('images/test.jpg')\n",
    "print(type(img3))\n",
    "print(img3)\n"
   ]
  },
  {
   "cell_type": "markdown",
   "metadata": {},
   "source": [
    "you can import images as different formats\n",
    "for example img_as_float -> "
   ]
  },
  {
   "cell_type": "code",
   "execution_count": null,
   "metadata": {},
   "outputs": [],
   "source": [
    "image_float = io.imread('images/test.jpg')\n",
    "# scales all values to 0-to-1 by divide each value to 255\n",
    "image_float = img_as_float(img3)\n",
    "print(image_float)\n"
   ]
  },
  {
   "cell_type": "markdown",
   "metadata": {},
   "source": [
    "\n",
    "czifile\n",
    "\n",
    "some special format of images\n",
    "\n",
    "install : pip install czifile\n",
    "\n"
   ]
  },
  {
   "cell_type": "code",
   "execution_count": null,
   "metadata": {},
   "outputs": [],
   "source": [
    "import czifile \n",
    "\n",
    "img4 = czifile.imread('images/Hypocotyl3.czi')\n",
    "print(type(img4))\n",
    "print(img4.shape)\n",
    "\n"
   ]
  },
  {
   "cell_type": "markdown",
   "metadata": {},
   "source": [
    "apeer_ometiff_library had issues! \n",
    "        \n",
    "        let's skip  "
   ]
  }
 ],
 "metadata": {
  "kernelspec": {
   "display_name": "Python (myenv)",
   "language": "python",
   "name": "myenv"
  },
  "language_info": {
   "codemirror_mode": {
    "name": "ipython",
    "version": 3
   },
   "file_extension": ".py",
   "mimetype": "text/x-python",
   "name": "python",
   "nbconvert_exporter": "python",
   "pygments_lexer": "ipython3",
   "version": "3.11.4"
  }
 },
 "nbformat": 4,
 "nbformat_minor": 5
}
